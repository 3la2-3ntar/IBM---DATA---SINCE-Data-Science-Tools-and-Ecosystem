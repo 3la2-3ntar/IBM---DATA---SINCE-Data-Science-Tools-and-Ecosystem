{
  "metadata": {
    "kernelspec": {
      "name": "python",
      "display_name": "Python (Pyodide)",
      "language": "python"
    },
    "language_info": {
      "codemirror_mode": {
        "name": "python",
        "version": 3
      },
      "file_extension": ".py",
      "mimetype": "text/x-python",
      "name": "python",
      "nbconvert_exporter": "python",
      "pygments_lexer": "ipython3",
      "version": "3.8"
    }
  },
  "nbformat_minor": 5,
  "nbformat": 4,
  "cells": [
    {
      "id": "f665ebd8-f458-4d6a-850c-0a199fd8cd16",
      "cell_type": "markdown",
      "source": "# Data Science Tools and Ecosystem",
      "metadata": {}
    },
    {
      "id": "8263777b-e15d-4825-8f76-83392ce4d72e",
      "cell_type": "markdown",
      "source": "## In this notebook, Data Science Tools and Ecosystem are summarized.\n",
      "metadata": {}
    },
    {
      "id": "3fe2850e-bdd0-4c75-85fe-c439d64e92e2",
      "cell_type": "markdown",
      "source": "## Some of the popular languages that Data Scientists use are:\n1. python \n2. R\n3. SQL\n4. C++",
      "metadata": {}
    },
    {
      "id": "51828255-2ac5-4385-bb82-410f80341677",
      "cell_type": "markdown",
      "source": "## Some of the commonly used libraries used by Data Scientists include:\n1. NumP\n2. Matplotlib\n3. Pandas. \n4. SciPy. ...\n5. PyTorch. ...\n6. Seaborn. ...\n7. Machine learning. ...\n8. Automated machine learning (AutoML)",
      "metadata": {}
    },
    {
      "id": "4df6327b-6cdf-446c-a41c-49cf2d1adeac",
      "cell_type": "markdown",
      "source": "|data since tools |\n|---|\n|SAS|\n|apache hadoop|\n|tensorfolw|",
      "metadata": {}
    },
    {
      "id": "0a2c66d4-266e-4f52-875e-3cbdae779af9",
      "cell_type": "markdown",
      "source": "### Below are a few examples of evaluating arithmetic expressions in Python:\n\n",
      "metadata": {}
    },
    {
      "id": "da749cdc-0091-43e6-b939-8540b03d9e8e",
      "cell_type": "code",
      "source": "#This a simple arithmetic expression to mutiply then add integers\n(3*4)+5",
      "metadata": {
        "trusted": true
      },
      "outputs": [
        {
          "execution_count": 3,
          "output_type": "execute_result",
          "data": {
            "text/plain": "17"
          },
          "metadata": {}
        }
      ],
      "execution_count": 3
    },
    {
      "id": "745de4d2-4ce7-404b-8992-95a887ac230a",
      "cell_type": "code",
      "source": "# This will convert 200 minutes to hours by diving by 60\n200/60",
      "metadata": {
        "trusted": true
      },
      "outputs": [
        {
          "execution_count": 4,
          "output_type": "execute_result",
          "data": {
            "text/plain": "3.3333333333333335"
          },
          "metadata": {}
        }
      ],
      "execution_count": 4
    },
    {
      "id": "865eda91-dd06-4953-ab04-3352c262724f",
      "cell_type": "markdown",
      "source": "__objectives__\n* popular languages that Data Scientists use\n* popular languages that Data Scientists use\n* List of data since tools\n* how to Add comments to the cell\n\n",
      "metadata": {}
    },
    {
      "id": "8fa41bd6-7b3e-4792-839d-73895af4f2d3",
      "cell_type": "markdown",
      "source": "## Author\nAlaa Antar\n\n",
      "metadata": {}
    },
    {
      "id": "cc9d7ebc-e4cf-4fc7-996b-05ec933dc0fe",
      "cell_type": "code",
      "source": "",
      "metadata": {
        "trusted": true
      },
      "outputs": [],
      "execution_count": null
    }
  ]
}